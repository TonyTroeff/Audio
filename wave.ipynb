{
 "cells": [
  {
   "cell_type": "code",
   "execution_count": 1,
   "id": "initial_id",
   "metadata": {
    "collapsed": true,
    "ExecuteTime": {
     "end_time": "2023-10-05T20:36:44.888657800Z",
     "start_time": "2023-10-05T20:36:44.065459400Z"
    }
   },
   "outputs": [],
   "source": [
    "from wave import open\n",
    "import numpy as np\n",
    "from matplotlib import pyplot as plt"
   ]
  },
  {
   "cell_type": "code",
   "execution_count": 2,
   "outputs": [],
   "source": [
    "song_name = \"Always - Bon Jovi\""
   ],
   "metadata": {
    "collapsed": false,
    "ExecuteTime": {
     "end_time": "2023-10-05T20:36:44.898550600Z",
     "start_time": "2023-10-05T20:36:44.889664300Z"
    }
   },
   "id": "ed7acffe7c372d70"
  },
  {
   "cell_type": "code",
   "execution_count": 3,
   "outputs": [],
   "source": [
    "file = open(f\"./files/{song_name}.wav\", mode=\"rb\")"
   ],
   "metadata": {
    "collapsed": false,
    "ExecuteTime": {
     "end_time": "2023-10-05T20:36:44.910576100Z",
     "start_time": "2023-10-05T20:36:44.895776700Z"
    }
   },
   "id": "fc13b41ebd6e4e3"
  },
  {
   "cell_type": "code",
   "execution_count": 4,
   "outputs": [
    {
     "name": "stdout",
     "output_type": "stream",
     "text": [
      "Number of channels: 2\n",
      "Sample width (in bytes): 2\n",
      "Frame rate (sampling frequency): 44100\n",
      "Number of frames: 15601536\n",
      "Length (in seconds): 353.77632653061227\n"
     ]
    }
   ],
   "source": [
    "channels_count = file.getnchannels()\n",
    "sample_width = file.getsampwidth()\n",
    "frame_rate = file.getframerate()\n",
    "frames_count = file.getnframes()\n",
    "print(f\"Number of channels: {channels_count}\")\n",
    "print(f\"Sample width (in bytes): {sample_width}\")\n",
    "print(f\"Frame rate (sampling frequency): {frame_rate}\")\n",
    "print(f\"Number of frames: {frames_count}\")\n",
    "\n",
    "length_in_seconds = frames_count / frame_rate\n",
    "print(f\"Length (in seconds): {length_in_seconds}\")"
   ],
   "metadata": {
    "collapsed": false,
    "ExecuteTime": {
     "end_time": "2023-10-05T20:36:44.923680300Z",
     "start_time": "2023-10-05T20:36:44.905073200Z"
    }
   },
   "id": "d44b3539c3fcc317"
  },
  {
   "cell_type": "code",
   "execution_count": 5,
   "outputs": [],
   "source": [
    "# -1 means \"read all frames\"\n",
    "raw_signal = file.readframes(-1)"
   ],
   "metadata": {
    "collapsed": false,
    "ExecuteTime": {
     "end_time": "2023-10-05T20:36:44.986005Z",
     "start_time": "2023-10-05T20:36:44.918682800Z"
    }
   },
   "id": "28127c64521ab64d"
  },
  {
   "cell_type": "code",
   "execution_count": 6,
   "outputs": [],
   "source": [
    "# Each sample consists of `sample_width` bytes that must be interpreted as a single number.\n",
    "signal = np.frombuffer(raw_signal, dtype=f\"int{sample_width * 8}\")"
   ],
   "metadata": {
    "collapsed": false,
    "ExecuteTime": {
     "end_time": "2023-10-05T20:36:45.000349700Z",
     "start_time": "2023-10-05T20:36:44.958270200Z"
    }
   },
   "id": "235faff7cebab9f7"
  },
  {
   "cell_type": "code",
   "execution_count": 7,
   "outputs": [
    {
     "name": "stdout",
     "output_type": "stream",
     "text": [
      "Expected signal length: 31203072\n",
      "Actual signal length: 31203072\n"
     ]
    }
   ],
   "source": [
    "print(f\"Expected signal length: {frames_count * channels_count}\")\n",
    "print(f\"Actual signal length: {len(signal)}\")"
   ],
   "metadata": {
    "collapsed": false,
    "ExecuteTime": {
     "end_time": "2023-10-05T20:36:45.001350400Z",
     "start_time": "2023-10-05T20:36:44.963880500Z"
    }
   },
   "id": "4c593c8e984c7cf1"
  },
  {
   "cell_type": "code",
   "execution_count": 8,
   "outputs": [],
   "source": [
    "time_series = np.linspace(start=0, stop=len(signal) / frame_rate / sample_width, num=len(signal))"
   ],
   "metadata": {
    "collapsed": false,
    "ExecuteTime": {
     "end_time": "2023-10-05T20:36:45.125920800Z",
     "start_time": "2023-10-05T20:36:44.972846Z"
    }
   },
   "id": "d926ca15f8652985"
  },
  {
   "cell_type": "code",
   "execution_count": 9,
   "outputs": [],
   "source": [
    "fig = plt.figure(1)\n",
    "fig.set_figwidth(fig.get_figwidth() * 30)\n",
    "\n",
    "fig.suptitle(song_name)\n",
    "fig.supxlabel(\"Time (in seconds)\")\n",
    "\n",
    "ax = fig.add_subplot()\n",
    "\n",
    "# Adjust the horizontal axis labels to ensure they are evenly spaced\n",
    "x_step = 5\n",
    "x_ticks = np.arange(time_series[0], time_series[-1], x_step)\n",
    "ax.set_xticks(x_ticks)\n",
    "\n",
    "# Remove the vertical axis labels\n",
    "ax.set_yticks([])\n",
    "\n",
    "ax.plot(time_series, signal, linewidth=0.5)\n",
    "\n",
    "fig.savefig(f\"images/{song_name}.png\", bbox_inches=\"tight\")\n",
    "plt.close(fig)"
   ],
   "metadata": {
    "collapsed": false,
    "ExecuteTime": {
     "end_time": "2023-10-05T20:37:10.809290900Z",
     "start_time": "2023-10-05T20:36:45.110850200Z"
    }
   },
   "id": "b81383229c682142"
  },
  {
   "cell_type": "markdown",
   "source": [
    "![Always - Bon Jovi](images/Always%20-%20Bon%20Jovi.png)"
   ],
   "metadata": {
    "collapsed": false
   },
   "id": "e03d4a916a168d16"
  }
 ],
 "metadata": {
  "kernelspec": {
   "display_name": "Python 3",
   "language": "python",
   "name": "python3"
  },
  "language_info": {
   "codemirror_mode": {
    "name": "ipython",
    "version": 2
   },
   "file_extension": ".py",
   "mimetype": "text/x-python",
   "name": "python",
   "nbconvert_exporter": "python",
   "pygments_lexer": "ipython2",
   "version": "2.7.6"
  }
 },
 "nbformat": 4,
 "nbformat_minor": 5
}
