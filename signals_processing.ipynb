{
 "cells": [
  {
   "cell_type": "code",
   "execution_count": 1,
   "id": "initial_id",
   "metadata": {
    "collapsed": true,
    "ExecuteTime": {
     "end_time": "2023-10-05T21:55:07.258712500Z",
     "start_time": "2023-10-05T21:55:06.638108Z"
    }
   },
   "outputs": [],
   "source": [
    "import numpy as np\n",
    "from scipy.fft import fft, fftfreq\n",
    "from matplotlib import pyplot as plt"
   ]
  },
  {
   "cell_type": "code",
   "execution_count": 2,
   "outputs": [],
   "source": [
    "def generate_sample_points(sample_rate: int, duration_in_seconds: int) -> np.ndarray:\n",
    "    total_sample_points = sample_rate * duration_in_seconds\n",
    "    return np.linspace(0, duration_in_seconds, total_sample_points, endpoint=False)\n",
    "\n",
    "def generate_sine_wave(frequency: float, sample_points: np.ndarray) -> np.ndarray:\n",
    "    return np.sin(2 * np.pi * frequency * sample_points)\n"
   ],
   "metadata": {
    "collapsed": false,
    "ExecuteTime": {
     "end_time": "2023-10-05T21:55:07.264282300Z",
     "start_time": "2023-10-05T21:55:07.261232600Z"
    }
   },
   "id": "1734fe96b1ab1827"
  },
  {
   "cell_type": "code",
   "execution_count": 3,
   "outputs": [],
   "source": [
    "def plot(x: np.ndarray, y: np.ndarray, path_to_png: str, width_scale: float = 1) -> None:\n",
    "    fig = plt.figure(1)\n",
    "    fig.set_figwidth(fig.get_figwidth() * width_scale)\n",
    "    \n",
    "    axs = fig.add_subplot()\n",
    "    axs.plot(x, y)\n",
    "    \n",
    "    fig.savefig(path_to_png, bbox_inches=\"tight\")\n",
    "    plt.close(fig)"
   ],
   "metadata": {
    "collapsed": false,
    "ExecuteTime": {
     "end_time": "2023-10-05T21:55:07.271203900Z",
     "start_time": "2023-10-05T21:55:07.266281600Z"
    }
   },
   "id": "3b7a8c8243f228db"
  },
  {
   "cell_type": "code",
   "execution_count": 4,
   "outputs": [],
   "source": [
    "default_sample_rate = 44100\n",
    "default_sample_points = generate_sample_points(sample_rate=default_sample_rate, duration_in_seconds=1)"
   ],
   "metadata": {
    "collapsed": false,
    "ExecuteTime": {
     "end_time": "2023-10-05T21:55:07.278104700Z",
     "start_time": "2023-10-05T21:55:07.272203100Z"
    }
   },
   "id": "49d34eb9bfa071fa"
  },
  {
   "cell_type": "code",
   "execution_count": 5,
   "outputs": [],
   "source": [
    "wave_2hz = generate_sine_wave(frequency=2, sample_points=default_sample_points)\n",
    "plot(default_sample_points, wave_2hz, \"images/wave_2hz.png\")"
   ],
   "metadata": {
    "collapsed": false,
    "ExecuteTime": {
     "end_time": "2023-10-05T21:55:07.406538Z",
     "start_time": "2023-10-05T21:55:07.280616600Z"
    }
   },
   "id": "4e5503079a665e0e"
  },
  {
   "cell_type": "markdown",
   "source": [
    "![Sine wave with frequency of 2Hz](images/wave_2hz.png)"
   ],
   "metadata": {
    "collapsed": false
   },
   "id": "806fed896ef59660"
  },
  {
   "cell_type": "code",
   "execution_count": 6,
   "outputs": [],
   "source": [
    "wave_432hz = generate_sine_wave(frequency=432, sample_points=default_sample_points)\n",
    "plot(default_sample_points, wave_432hz, \"images/wave_432hz.png\", width_scale=15)"
   ],
   "metadata": {
    "collapsed": false,
    "ExecuteTime": {
     "end_time": "2023-10-05T21:55:07.864402300Z",
     "start_time": "2023-10-05T21:55:07.407516200Z"
    }
   },
   "id": "2d91b2ac5e94b65e"
  },
  {
   "cell_type": "markdown",
   "source": [
    "![Sine wave with frequency of 432Hz](images/wave_432hz.png)"
   ],
   "metadata": {
    "collapsed": false
   },
   "id": "c86afd87398dcc40"
  },
  {
   "cell_type": "code",
   "execution_count": 7,
   "outputs": [],
   "source": [
    "wave_523hz = generate_sine_wave(frequency=523, sample_points=default_sample_points)\n",
    "plot(default_sample_points, wave_523hz, \"images/wave_523hz.png\", width_scale=15)"
   ],
   "metadata": {
    "collapsed": false,
    "ExecuteTime": {
     "end_time": "2023-10-05T21:55:08.394047400Z",
     "start_time": "2023-10-05T21:55:07.863400700Z"
    }
   },
   "id": "eafa9089debc7c9b"
  },
  {
   "cell_type": "markdown",
   "source": [
    "![Sine wave with frequency of 523Hz](images/wave_523hz.png)"
   ],
   "metadata": {
    "collapsed": false
   },
   "id": "b525db305dcb83b4"
  },
  {
   "cell_type": "code",
   "execution_count": 8,
   "outputs": [],
   "source": [
    "combined_wave = wave_432hz + wave_523hz\n",
    "plot(default_sample_points, combined_wave, \"images/wave_432+523hz.png\", width_scale=15)"
   ],
   "metadata": {
    "collapsed": false,
    "ExecuteTime": {
     "end_time": "2023-10-05T21:55:08.781638600Z",
     "start_time": "2023-10-05T21:55:08.394047400Z"
    }
   },
   "id": "8a48903239ed0295"
  },
  {
   "cell_type": "markdown",
   "source": [
    "![Sine wave with frequency of 432+523Hz](images/wave_432+523hz.png)"
   ],
   "metadata": {
    "collapsed": false
   },
   "id": "39453ec0ee55ddac"
  },
  {
   "cell_type": "code",
   "execution_count": 9,
   "outputs": [],
   "source": [
    "def normalize_wave(wave: np.ndarray, dtype: object) -> np.ndarray:\n",
    "    dtype_info = np.iinfo(dtype)\n",
    "    max_val = wave.max(initial=dtype_info.min)\n",
    "    return np.array(wave / max_val * dtype_info.max, dtype=dtype)  "
   ],
   "metadata": {
    "collapsed": false,
    "ExecuteTime": {
     "end_time": "2023-10-05T21:55:08.788104Z",
     "start_time": "2023-10-05T21:55:08.782639800Z"
    }
   },
   "id": "3625d0ab63824aca"
  },
  {
   "cell_type": "code",
   "execution_count": 10,
   "outputs": [],
   "source": [
    "combined_normalized_wave = normalize_wave(combined_wave, np.int16)\n",
    "plot(default_sample_points, combined_normalized_wave, \"images/wave_432+523hz_normalized.png\", width_scale=15)"
   ],
   "metadata": {
    "collapsed": false,
    "ExecuteTime": {
     "end_time": "2023-10-05T21:55:09.143934900Z",
     "start_time": "2023-10-05T21:55:08.788104Z"
    }
   },
   "id": "1f8e57a05b8c7fc0"
  },
  {
   "cell_type": "markdown",
   "source": [
    "![Wave (normalized) with frequency of 432+523Hz](images/wave_432+523hz_normalized.png)"
   ],
   "metadata": {
    "collapsed": false
   },
   "id": "76ec0f7f0d91387"
  },
  {
   "cell_type": "code",
   "execution_count": 11,
   "outputs": [],
   "source": [
    "spectrum_values = fft(combined_normalized_wave)\n",
    "spectrum_points = fftfreq(len(default_sample_points), 1 / default_sample_rate)\n",
    "\n",
    "plot(spectrum_points, np.abs(spectrum_values), \"images/frequency_spectrum_analysis_432+523hz_normalized.png\", width_scale=5)"
   ],
   "metadata": {
    "collapsed": false,
    "ExecuteTime": {
     "end_time": "2023-10-05T21:55:09.262789400Z",
     "start_time": "2023-10-05T21:55:09.146937600Z"
    }
   },
   "id": "bbd3f62504e651e6"
  },
  {
   "cell_type": "markdown",
   "source": [
    "![Frequency spectrum analysis of wave (normalized) with frequency of 432+523Hz](images/frequency_spectrum_analysis_432+523hz_normalized.png)"
   ],
   "metadata": {
    "collapsed": false
   },
   "id": "bd98d4f02cd405e8"
  }
 ],
 "metadata": {
  "kernelspec": {
   "display_name": "Python 3",
   "language": "python",
   "name": "python3"
  },
  "language_info": {
   "codemirror_mode": {
    "name": "ipython",
    "version": 2
   },
   "file_extension": ".py",
   "mimetype": "text/x-python",
   "name": "python",
   "nbconvert_exporter": "python",
   "pygments_lexer": "ipython2",
   "version": "2.7.6"
  }
 },
 "nbformat": 4,
 "nbformat_minor": 5
}
