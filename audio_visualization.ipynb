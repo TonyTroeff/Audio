{
 "cells": [
  {
   "cell_type": "code",
   "execution_count": 1,
   "id": "initial_id",
   "metadata": {
    "collapsed": true,
    "ExecuteTime": {
     "end_time": "2023-10-06T17:47:04.723178800Z",
     "start_time": "2023-10-06T17:47:03.729864400Z"
    }
   },
   "outputs": [],
   "source": [
    "from wave import open\n",
    "\n",
    "import numpy as np\n",
    "from matplotlib import pyplot as plt\n",
    "from matplotlib.axes import Axes\n",
    "from scipy.fft import rfft, rfftfreq"
   ]
  },
  {
   "cell_type": "code",
   "execution_count": 2,
   "outputs": [],
   "source": [
    "song_name = \"Always - Bon Jovi\""
   ],
   "metadata": {
    "collapsed": false,
    "ExecuteTime": {
     "end_time": "2023-10-06T17:47:04.728256300Z",
     "start_time": "2023-10-06T17:47:04.722845700Z"
    }
   },
   "id": "ed7acffe7c372d70"
  },
  {
   "cell_type": "code",
   "execution_count": 3,
   "outputs": [],
   "source": [
    "file = open(f\"./files/{song_name}.wav\", mode=\"rb\")"
   ],
   "metadata": {
    "collapsed": false,
    "ExecuteTime": {
     "end_time": "2023-10-06T17:47:04.738191800Z",
     "start_time": "2023-10-06T17:47:04.727253200Z"
    }
   },
   "id": "fc13b41ebd6e4e3"
  },
  {
   "cell_type": "code",
   "execution_count": 4,
   "outputs": [
    {
     "name": "stdout",
     "output_type": "stream",
     "text": [
      "Number of channels: 2\n",
      "Sample width (in bytes): 2\n",
      "Frame rate (sampling frequency): 44100\n",
      "Number of frames: 15601536\n",
      "Length (in seconds): 353.77632653061227\n"
     ]
    }
   ],
   "source": [
    "channels_count = file.getnchannels()\n",
    "sample_width = file.getsampwidth()\n",
    "frame_rate = file.getframerate()\n",
    "frames_count = file.getnframes()\n",
    "print(f\"Number of channels: {channels_count}\")\n",
    "print(f\"Sample width (in bytes): {sample_width}\")\n",
    "print(f\"Frame rate (sampling frequency): {frame_rate}\")\n",
    "print(f\"Number of frames: {frames_count}\")\n",
    "\n",
    "length_in_seconds = frames_count / frame_rate\n",
    "print(f\"Length (in seconds): {length_in_seconds}\")"
   ],
   "metadata": {
    "collapsed": false,
    "ExecuteTime": {
     "end_time": "2023-10-06T17:47:04.743469200Z",
     "start_time": "2023-10-06T17:47:04.735183200Z"
    }
   },
   "id": "d44b3539c3fcc317"
  },
  {
   "cell_type": "code",
   "execution_count": 5,
   "outputs": [],
   "source": [
    "# -1 means \"read all frames\"\n",
    "raw_signal = file.readframes(-1)"
   ],
   "metadata": {
    "collapsed": false,
    "ExecuteTime": {
     "end_time": "2023-10-06T17:47:04.810880100Z",
     "start_time": "2023-10-06T17:47:04.745984400Z"
    }
   },
   "id": "28127c64521ab64d"
  },
  {
   "cell_type": "code",
   "execution_count": 6,
   "outputs": [],
   "source": [
    "# Each sample consists of `sample_width` bytes that must be interpreted as a single number.\n",
    "signal = np.frombuffer(raw_signal, dtype=f\"int{sample_width * 8}\")"
   ],
   "metadata": {
    "collapsed": false,
    "ExecuteTime": {
     "end_time": "2023-10-06T17:47:04.810880100Z",
     "start_time": "2023-10-06T17:47:04.806388800Z"
    }
   },
   "id": "235faff7cebab9f7"
  },
  {
   "cell_type": "code",
   "execution_count": 7,
   "outputs": [
    {
     "name": "stdout",
     "output_type": "stream",
     "text": [
      "Expected signal length: 31203072\n",
      "Actual signal length: 31203072\n"
     ]
    }
   ],
   "source": [
    "print(f\"Expected signal length: {frames_count * channels_count}\")\n",
    "print(f\"Actual signal length: {len(signal)}\")"
   ],
   "metadata": {
    "collapsed": false,
    "ExecuteTime": {
     "end_time": "2023-10-06T17:47:04.825807300Z",
     "start_time": "2023-10-06T17:47:04.812394200Z"
    }
   },
   "id": "4c593c8e984c7cf1"
  },
  {
   "cell_type": "code",
   "execution_count": 8,
   "outputs": [],
   "source": [
    "def visualize_audio(axes: Axes, channel_signal: np.ndarray) -> None:\n",
    "    time_series = np.linspace(start=0, stop=len(channel_signal) / frame_rate, num=len(channel_signal))\n",
    "    \n",
    "    # Adjust the horizontal axis labels to ensure they are evenly spaced\n",
    "    x_step = 5\n",
    "    x_ticks = np.arange(time_series[0], time_series[-1], x_step)\n",
    "    axes.set_xticks(x_ticks)\n",
    "    \n",
    "    # Remove the vertical axis labels\n",
    "    axes.set_yticks([])\n",
    "    \n",
    "    axes.plot(time_series, channel_signal, linewidth=0.5)"
   ],
   "metadata": {
    "collapsed": false,
    "ExecuteTime": {
     "end_time": "2023-10-06T17:47:04.831323600Z",
     "start_time": "2023-10-06T17:47:04.821834200Z"
    }
   },
   "id": "b81383229c682142"
  },
  {
   "cell_type": "code",
   "execution_count": 9,
   "outputs": [],
   "source": [
    "fig = plt.figure(1,)\n",
    "fig.set_figwidth(fig.get_figwidth() * 30)\n",
    "fig.tight_layout()\n",
    "\n",
    "fig.suptitle(song_name)\n",
    "fig.supxlabel(\"Time (in seconds)\")\n",
    "\n",
    "axes = fig.subplots(nrows=channels_count, ncols=1)\n",
    "\n",
    "for i in range(channels_count):\n",
    "    visualize_audio(axes[i], signal[i::channels_count])\n",
    "\n",
    "fig.savefig(f\"images/{song_name}.png\", bbox_inches=\"tight\")\n",
    "plt.close(fig)"
   ],
   "metadata": {
    "collapsed": false,
    "ExecuteTime": {
     "end_time": "2023-10-06T17:47:19.088415300Z",
     "start_time": "2023-10-06T17:47:04.832323300Z"
    }
   },
   "id": "7733d2eb25d95678"
  },
  {
   "cell_type": "markdown",
   "source": [
    "![Always - Bon Jovi](images/Always%20-%20Bon%20Jovi.png)"
   ],
   "metadata": {
    "collapsed": false
   },
   "id": "e03d4a916a168d16"
  },
  {
   "cell_type": "code",
   "execution_count": 10,
   "outputs": [
    {
     "name": "stdout",
     "output_type": "stream",
     "text": [
      "Signals per second: 88200\n",
      "Start frequency analysis at: 88200\n",
      "Start frequency analysis at: 92610\n"
     ]
    }
   ],
   "source": [
    "signals_per_second = frame_rate * channels_count\n",
    "start = signals_per_second # Start from 1s\n",
    "end = start + signals_per_second // 20 # End at 1s 50ms\n",
    "\n",
    "print(f\"Signals per second: {signals_per_second}\")\n",
    "print(f\"Start frequency analysis at: {start}\")\n",
    "print(f\"Start frequency analysis at: {end}\")"
   ],
   "metadata": {
    "collapsed": false,
    "ExecuteTime": {
     "end_time": "2023-10-06T17:47:19.097457900Z",
     "start_time": "2023-10-06T17:47:19.089412500Z"
    }
   },
   "id": "3d4bbc9968d7eb0c"
  },
  {
   "cell_type": "code",
   "execution_count": 11,
   "outputs": [],
   "source": [
    "excerpt = signal[start:end]\n",
    "\n",
    "spectrum_values = rfft(excerpt)\n",
    "spectrum_points = rfftfreq(len(excerpt), 1 / frame_rate)"
   ],
   "metadata": {
    "collapsed": false,
    "ExecuteTime": {
     "end_time": "2023-10-06T17:47:19.106711200Z",
     "start_time": "2023-10-06T17:47:19.094943900Z"
    }
   },
   "id": "3839ec68c1954d69"
  },
  {
   "cell_type": "code",
   "execution_count": 13,
   "outputs": [],
   "source": [
    "fig = plt.figure(1)\n",
    "fig.set_figwidth(fig.get_figwidth() * 30)\n",
    "\n",
    "ax = fig.add_subplot()\n",
    "ax.plot(spectrum_points, np.abs(spectrum_values))\n",
    "\n",
    "fig.savefig(f\"images/{song_name}_freq_{start}_{end}.png\", bbox_inches=\"tight\")\n",
    "plt.close(fig)"
   ],
   "metadata": {
    "collapsed": false,
    "ExecuteTime": {
     "end_time": "2023-10-06T17:48:03.156946700Z",
     "start_time": "2023-10-06T17:48:02.741109400Z"
    }
   },
   "id": "20e871e53311fd82"
  },
  {
   "cell_type": "markdown",
   "source": [
    "![Always - Bon Jovi (Frequency analysis)](images/Always%20-%20Bon%20Jovi_freq_88200_92610.png)"
   ],
   "metadata": {
    "collapsed": false
   },
   "id": "3827eadaf8477ee9"
  }
 ],
 "metadata": {
  "kernelspec": {
   "display_name": "Python 3",
   "language": "python",
   "name": "python3"
  },
  "language_info": {
   "codemirror_mode": {
    "name": "ipython",
    "version": 2
   },
   "file_extension": ".py",
   "mimetype": "text/x-python",
   "name": "python",
   "nbconvert_exporter": "python",
   "pygments_lexer": "ipython2",
   "version": "2.7.6"
  }
 },
 "nbformat": 4,
 "nbformat_minor": 5
}
