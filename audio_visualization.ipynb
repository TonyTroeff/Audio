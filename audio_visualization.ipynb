{
 "cells": [
  {
   "cell_type": "code",
   "execution_count": 1,
   "id": "initial_id",
   "metadata": {
    "collapsed": true,
    "ExecuteTime": {
     "end_time": "2023-10-06T20:05:08.785751700Z",
     "start_time": "2023-10-06T20:05:07.668426900Z"
    }
   },
   "outputs": [],
   "source": [
    "from wave import open\n",
    "\n",
    "import numpy as np\n",
    "from matplotlib import pyplot as plt\n",
    "from matplotlib.axes import Axes\n",
    "from scipy.fft import rfft, rfftfreq"
   ]
  },
  {
   "cell_type": "code",
   "execution_count": 2,
   "outputs": [],
   "source": [
    "song_name = \"Always - Bon Jovi\""
   ],
   "metadata": {
    "collapsed": false,
    "ExecuteTime": {
     "end_time": "2023-10-06T20:05:08.794571900Z",
     "start_time": "2023-10-06T20:05:08.789519800Z"
    }
   },
   "id": "ed7acffe7c372d70"
  },
  {
   "cell_type": "code",
   "execution_count": 3,
   "outputs": [],
   "source": [
    "file = open(f\"./files/{song_name}.wav\", mode=\"rb\")"
   ],
   "metadata": {
    "collapsed": false,
    "ExecuteTime": {
     "end_time": "2023-10-06T20:05:08.804446900Z",
     "start_time": "2023-10-06T20:05:08.796686400Z"
    }
   },
   "id": "fc13b41ebd6e4e3"
  },
  {
   "cell_type": "code",
   "execution_count": 4,
   "outputs": [
    {
     "name": "stdout",
     "output_type": "stream",
     "text": [
      "Number of channels: 2\n",
      "Sample width (in bytes): 2\n",
      "Frame rate (sampling frequency): 44100\n",
      "Number of frames: 15601536\n",
      "Length (in seconds): 353.77632653061227\n"
     ]
    }
   ],
   "source": [
    "channels_count = file.getnchannels()\n",
    "sample_width = file.getsampwidth()\n",
    "frame_rate = file.getframerate()\n",
    "frames_count = file.getnframes()\n",
    "print(f\"Number of channels: {channels_count}\")\n",
    "print(f\"Sample width (in bytes): {sample_width}\")\n",
    "print(f\"Frame rate (sampling frequency): {frame_rate}\")\n",
    "print(f\"Number of frames: {frames_count}\")\n",
    "\n",
    "length_in_seconds = frames_count / frame_rate\n",
    "print(f\"Length (in seconds): {length_in_seconds}\")"
   ],
   "metadata": {
    "collapsed": false,
    "ExecuteTime": {
     "end_time": "2023-10-06T20:05:08.824106600Z",
     "start_time": "2023-10-06T20:05:08.805444200Z"
    }
   },
   "id": "d44b3539c3fcc317"
  },
  {
   "cell_type": "code",
   "execution_count": 5,
   "outputs": [],
   "source": [
    "# -1 means \"read all frames\"\n",
    "raw_signal = file.readframes(-1)"
   ],
   "metadata": {
    "collapsed": false,
    "ExecuteTime": {
     "end_time": "2023-10-06T20:05:08.881044100Z",
     "start_time": "2023-10-06T20:05:08.824106600Z"
    }
   },
   "id": "28127c64521ab64d"
  },
  {
   "cell_type": "code",
   "execution_count": 6,
   "outputs": [],
   "source": [
    "# Each sample consists of `sample_width` bytes that must be interpreted as a single number.\n",
    "signal = np.frombuffer(raw_signal, dtype=f\"int{sample_width * 8}\")"
   ],
   "metadata": {
    "collapsed": false,
    "ExecuteTime": {
     "end_time": "2023-10-06T20:05:08.881950600Z",
     "start_time": "2023-10-06T20:05:08.872859800Z"
    }
   },
   "id": "235faff7cebab9f7"
  },
  {
   "cell_type": "code",
   "execution_count": 7,
   "outputs": [
    {
     "name": "stdout",
     "output_type": "stream",
     "text": [
      "Expected signal length: 31203072\n",
      "Actual signal length: 31203072\n"
     ]
    }
   ],
   "source": [
    "print(f\"Expected signal length: {frames_count * channels_count}\")\n",
    "print(f\"Actual signal length: {len(signal)}\")"
   ],
   "metadata": {
    "collapsed": false,
    "ExecuteTime": {
     "end_time": "2023-10-06T20:05:08.899171400Z",
     "start_time": "2023-10-06T20:05:08.883960100Z"
    }
   },
   "id": "4c593c8e984c7cf1"
  },
  {
   "cell_type": "code",
   "execution_count": 8,
   "outputs": [],
   "source": [
    "def visualize_audio(axes: Axes, channel_signal: np.ndarray) -> None:\n",
    "    time_series = np.linspace(start=0, stop=len(channel_signal) / frame_rate, num=len(channel_signal))\n",
    "    \n",
    "    # Adjust the horizontal axis labels to ensure they are evenly spaced\n",
    "    x_step = 5\n",
    "    x_ticks = np.arange(time_series[0], time_series[-1], x_step)\n",
    "    axes.set_xticks(x_ticks)\n",
    "    \n",
    "    # Remove the vertical axis labels\n",
    "    axes.set_yticks([])\n",
    "    \n",
    "    axes.plot(time_series, channel_signal, linewidth=0.5)"
   ],
   "metadata": {
    "collapsed": false,
    "ExecuteTime": {
     "end_time": "2023-10-06T20:05:08.913947500Z",
     "start_time": "2023-10-06T20:05:08.896905300Z"
    }
   },
   "id": "b81383229c682142"
  },
  {
   "cell_type": "code",
   "execution_count": 9,
   "outputs": [],
   "source": [
    "fig = plt.figure(1,)\n",
    "fig.set_figwidth(fig.get_figwidth() * 30)\n",
    "fig.tight_layout()\n",
    "\n",
    "fig.suptitle(song_name)\n",
    "fig.supxlabel(\"Time (in seconds)\")\n",
    "\n",
    "subplots = fig.subplots(nrows=channels_count, ncols=1)\n",
    "\n",
    "for i in range(channels_count):\n",
    "    visualize_audio(subplots[i], signal[i::channels_count])\n",
    "\n",
    "fig.savefig(f\"images/{song_name}.png\", bbox_inches=\"tight\")\n",
    "plt.close(fig)"
   ],
   "metadata": {
    "collapsed": false,
    "ExecuteTime": {
     "end_time": "2023-10-06T20:05:29.114197300Z",
     "start_time": "2023-10-06T20:05:08.907428Z"
    }
   },
   "id": "7733d2eb25d95678"
  },
  {
   "cell_type": "markdown",
   "source": [
    "![Always - Bon Jovi](images/Always%20-%20Bon%20Jovi.png)"
   ],
   "metadata": {
    "collapsed": false
   },
   "id": "e03d4a916a168d16"
  },
  {
   "cell_type": "code",
   "execution_count": 10,
   "outputs": [
    {
     "name": "stdout",
     "output_type": "stream",
     "text": [
      "Start frequency analysis at: 44100\n",
      "Start frequency analysis at: 44541\n",
      "Length: 441\n"
     ]
    }
   ],
   "source": [
    "start = frame_rate # Start from 1s\n",
    "end = start + frame_rate // 100 # End at 1s 10ms\n",
    "length = end - start\n",
    "\n",
    "print(f\"Start frequency analysis at: {start}\")\n",
    "print(f\"Start frequency analysis at: {end}\")\n",
    "print(f\"Length: {length}\")"
   ],
   "metadata": {
    "collapsed": false,
    "ExecuteTime": {
     "end_time": "2023-10-06T20:05:29.123459Z",
     "start_time": "2023-10-06T20:05:29.115197200Z"
    }
   },
   "id": "3d4bbc9968d7eb0c"
  },
  {
   "cell_type": "code",
   "execution_count": 11,
   "outputs": [],
   "source": [
    "def visualize_frequencies(axes: Axes, x: np.ndarray, y: np.ndarray) -> None:\n",
    "    axes.plot(x, y)"
   ],
   "metadata": {
    "collapsed": false,
    "ExecuteTime": {
     "end_time": "2023-10-06T20:05:29.132932600Z",
     "start_time": "2023-10-06T20:05:29.122465400Z"
    }
   },
   "id": "1c85fb8df5b41ec0"
  },
  {
   "cell_type": "code",
   "execution_count": 12,
   "outputs": [],
   "source": [
    "frequencies = rfftfreq(length, 1 / frame_rate)"
   ],
   "metadata": {
    "collapsed": false,
    "ExecuteTime": {
     "end_time": "2023-10-06T20:05:29.139394800Z",
     "start_time": "2023-10-06T20:05:29.133940100Z"
    }
   },
   "id": "3839ec68c1954d69"
  },
  {
   "cell_type": "code",
   "execution_count": 13,
   "outputs": [],
   "source": [
    "frequency_values = []\n",
    "for i in range(channels_count):\n",
    "    excerpt = signal[i::channels_count]\n",
    "    excerpt = excerpt[start:end]\n",
    "\n",
    "    current_values = np.abs(rfft(excerpt))\n",
    "    frequency_values.append(current_values)"
   ],
   "metadata": {
    "collapsed": false,
    "ExecuteTime": {
     "end_time": "2023-10-06T20:05:29.145634700Z",
     "start_time": "2023-10-06T20:05:29.139394800Z"
    }
   },
   "id": "2c0014930f01c3a4"
  },
  {
   "cell_type": "code",
   "execution_count": 14,
   "outputs": [],
   "source": [
    "fig = plt.figure(1)\n",
    "fig.set_figwidth(fig.get_figwidth() * 5)\n",
    "\n",
    "subplots = fig.subplots(nrows=channels_count, ncols=1)\n",
    "\n",
    "for i in range(channels_count):\n",
    "    subplots[i].set_yticks([])\n",
    "    subplots[i].plot(frequencies, frequency_values[i])\n",
    "\n",
    "fig.savefig(f\"images/{song_name}_freq_{start}_{end}.png\", bbox_inches=\"tight\")\n",
    "plt.close(fig)"
   ],
   "metadata": {
    "collapsed": false,
    "ExecuteTime": {
     "end_time": "2023-10-06T20:05:29.313697800Z",
     "start_time": "2023-10-06T20:05:29.148638800Z"
    }
   },
   "id": "20e871e53311fd82"
  },
  {
   "cell_type": "markdown",
   "source": [
    "![Always - Bon Jovi (Frequency analysis)](images/Always%20-%20Bon%20Jovi_freq_44100_44541.png)"
   ],
   "metadata": {
    "collapsed": false
   },
   "id": "3827eadaf8477ee9"
  }
 ],
 "metadata": {
  "kernelspec": {
   "display_name": "Python 3",
   "language": "python",
   "name": "python3"
  },
  "language_info": {
   "codemirror_mode": {
    "name": "ipython",
    "version": 2
   },
   "file_extension": ".py",
   "mimetype": "text/x-python",
   "name": "python",
   "nbconvert_exporter": "python",
   "pygments_lexer": "ipython2",
   "version": "2.7.6"
  }
 },
 "nbformat": 4,
 "nbformat_minor": 5
}
